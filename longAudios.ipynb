{
  "nbformat": 4,
  "nbformat_minor": 0,
  "metadata": {
    "colab": {
      "provenance": [],
      "collapsed_sections": [],
      "authorship_tag": "ABX9TyOPvgT6juTsO/qzizxTPFfy"
    },
    "kernelspec": {
      "name": "python3",
      "display_name": "Python 3"
    },
    "language_info": {
      "name": "python"
    }
  },
  "cells": [
    {
      "cell_type": "code",
      "source": [
        "!pip install vosk"
      ],
      "metadata": {
        "id": "WXVbpaROvvGf"
      },
      "execution_count": null,
      "outputs": []
    },
    {
      "cell_type": "code",
      "source": [
        "!pip install deepmultilingualpunctuation"
      ],
      "metadata": {
        "id": "Qy8OCf3kJPtb"
      },
      "execution_count": null,
      "outputs": []
    },
    {
      "cell_type": "code",
      "source": [
        "!pip install pydub"
      ],
      "metadata": {
        "colab": {
          "base_uri": "https://localhost:8080/"
        },
        "id": "JPwJsLx2xaB1",
        "outputId": "90fefb86-8cbf-4b83-de3f-a4f3ebc1d07d"
      },
      "execution_count": null,
      "outputs": [
        {
          "output_type": "stream",
          "name": "stdout",
          "text": [
            "Looking in indexes: https://pypi.org/simple, https://us-python.pkg.dev/colab-wheels/public/simple/\n",
            "Requirement already satisfied: pydub in /usr/local/lib/python3.7/dist-packages (0.25.1)\n"
          ]
        }
      ]
    },
    {
      "cell_type": "code",
      "source": [
        "#importing and using the pretraining model in portuguese\n",
        "from vosk import Model, KaldiRecognizer\n",
        "FRAME_RATE = 16000\n",
        "CHANNELS=1"
      ],
      "metadata": {
        "id": "1DKLrkPswAYN"
      },
      "execution_count": null,
      "outputs": []
    },
    {
      "cell_type": "code",
      "source": [
        "from pydub import AudioSegment"
      ],
      "metadata": {
        "id": "0mqKMOl1xeVa"
      },
      "execution_count": null,
      "outputs": []
    },
    {
      "cell_type": "code",
      "source": [
        "#importing json because vosk returns a json file\n",
        "import json"
      ],
      "metadata": {
        "id": "IMcBdxYQ5VOk"
      },
      "execution_count": null,
      "outputs": []
    },
    {
      "cell_type": "code",
      "source": [
        "# loading the punctuation model\n",
        "from deepmultilingualpunctuation import PunctuationModel"
      ],
      "metadata": {
        "id": "RyP5RBI5JV3g"
      },
      "execution_count": null,
      "outputs": []
    },
    {
      "cell_type": "code",
      "source": [
        "def audio_recognition(filename):\n",
        "    model = Model(model_name=\"vosk-model-pt-fb-v0.1.1-20220516_2113\")\n",
        "    # For a smaller download size, use model = Model(model_name=\"vosk-model-small-pt-0.3\")\n",
        "    rec = KaldiRecognizer(model, FRAME_RATE)\n",
        "    rec.SetWords(True)\n",
        "    \n",
        "    #small treatments to use the audio in mp3 format\n",
        "    mp3 = AudioSegment.from_mp3(filename)\n",
        "    mp3 = mp3.set_channels(CHANNELS)\n",
        "    mp3 = mp3.set_frame_rate(FRAME_RATE)\n",
        "\n",
        "    # segmenting the audios that are longer than 45 seconds for a better perform\n",
        "    step = 45000\n",
        "    transcript = \"\"\n",
        "    for i in range(0, len(mp3), step):\n",
        "        print(f\"Progress: {i/len(mp3)}\")\n",
        "        segment = mp3[i:i+step]\n",
        "        rec.AcceptWaveform(segment.raw_data)\n",
        "        result = rec.Result()\n",
        "        text = json.loads(result)[\"text\"]\n",
        "        transcript += text\n",
        "\n",
        "    model = PunctuationModel()\n",
        "    result = model.restore_punctuation(transcript)\n",
        "    return result"
      ],
      "metadata": {
        "id": "cf5757dz8G9j"
      },
      "execution_count": null,
      "outputs": []
    },
    {
      "cell_type": "code",
      "source": [
        "audio = audio_recognition(\"audio_8min_teste.mp3\")\n",
        "audio"
      ],
      "metadata": {
        "id": "_YFMVEOZ-8Ju"
      },
      "execution_count": null,
      "outputs": []
    }
  ]
}